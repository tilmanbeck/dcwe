{
 "cells": [
  {
   "cell_type": "code",
   "execution_count": 1,
   "id": "5bf57770",
   "metadata": {},
   "outputs": [
    {
     "name": "stderr",
     "output_type": "stream",
     "text": [
      "Matplotlib created a temporary config/cache directory at /scratch/207548/matplotlib-rx6z0tx0 because the default path (/home/beck/.config/matplotlib) is not a writable directory; it is highly recommended to set the MPLCONFIGDIR environment variable to a writable directory, in particular to speed up the import of Matplotlib and to better support multiprocessing.\n"
     ]
    }
   ],
   "source": [
    "import argparse\n",
    "import logging\n",
    "import random\n",
    "import time\n",
    "import datetime\n",
    "\n",
    "from sklearn.metrics import f1_score\n",
    "from torch import optim, nn\n",
    "from torch.utils.data import DataLoader\n",
    "\n",
    "from data_helpers import *\n",
    "from model_temporal import TemporalClassificationModel\n",
    "import matplotlib.pyplot as plt"
   ]
  },
  {
   "cell_type": "code",
   "execution_count": 2,
   "id": "fa237be7",
   "metadata": {},
   "outputs": [],
   "source": [
    "# variables\n",
    "\n",
    "label_maps = {\n",
    "    'debate': {'claim': 1, 'noclaim': 0},\n",
    "    'sandy': {'y': 1, 'n': 0},\n",
    "    'rumours':  {'comment': 0, 'deny': 1, 'support': 2, 'query': 3},\n",
    "    'clex': {'Related - but not informative': 0, 'Not related': 1,\n",
    "             'Related and informative': 2, 'Not applicable': 3}\n",
    "}\n",
    "\n",
    "label_maps_inverse = {\n",
    "    'debate': {1: 'claim', 0: 'noclaim'},\n",
    "    'sandy': {1: 'y', 0:'n'},\n",
    "    'rumours':  {0: 'comment', 1: 'deny', 2:'support', 3:'query'},\n",
    "    'clex': {0: 'Related - but not informative', 1: 'Not related',\n",
    "             2: 'Related and informative', 3:'Not applicable'}\n",
    "}\n",
    "\n",
    "data_name = 'sandy'\n",
    "data_dir = '/ukp-storage-1/beck/Repositories/temporal-adaptation/datasets/stowe-2018/labeled/stowe-2018-labeled-all.csv'\n",
    "partition = 'time_stratified_partition'\n",
    "results_dir = '/ukp-storage-1/beck/Repositories/dcwe/results/jupyter'\n",
    "batch_size = 32\n",
    "lr = 0.0001\n",
    "n_epochs = 1\n",
    "lambda_a = 0.1\n",
    "lambda_w = lambda_a / 0.001\n",
    "lm_model = 'bert-base-cased'\n",
    "time_field = 'date'\n",
    "label_field = 'tag'"
   ]
  },
  {
   "cell_type": "code",
   "execution_count": 3,
   "id": "c78685e0",
   "metadata": {},
   "outputs": [],
   "source": [
    "dataframe = pd.read_csv(data_dir, parse_dates=[time_field], encoding='utf-8')\n",
    "nr_classes = len(set(dataframe[label_field].values))\n",
    "begin_date = dataframe[time_field].min().to_pydatetime().date()\n",
    "task_label_map = label_maps[data_name]\n",
    "inverse_task_label_map = label_maps_inverse[data_name]"
   ]
  },
  {
   "cell_type": "code",
   "execution_count": 4,
   "id": "c9beab45",
   "metadata": {
    "scrolled": false
   },
   "outputs": [
    {
     "name": "stderr",
     "output_type": "stream",
     "text": [
      "Token indices sequence length is longer than the specified maximum sequence length for this model (5295 > 512). Running this sequence through the model will result in indexing errors\n",
      "Token indices sequence length is longer than the specified maximum sequence length for this model (1953 > 512). Running this sequence through the model will result in indexing errors\n"
     ]
    }
   ],
   "source": [
    "train_dataset = TemporalClassificationDataset(data_name, dataframe, 'train', begin_date=begin_date,\n",
    "                                                  partition=partition, label_mapping=task_label_map,\n",
    "                                                  label_field=label_field, time_field=time_field, lm_model=lm_model)\n",
    "dev_dataset = TemporalClassificationDataset(data_name, dataframe, 'dev', begin_date, partition=partition,\n",
    "                                                label_mapping=task_label_map,\n",
    "                                                label_field=label_field, time_field=time_field, lm_model=lm_model)"
   ]
  },
  {
   "cell_type": "code",
   "execution_count": 5,
   "id": "dd513689",
   "metadata": {},
   "outputs": [],
   "source": [
    "collator = TemporalClassificationCollator()\n",
    "train_loader = DataLoader(train_dataset, batch_size=batch_size, collate_fn=collator)\n",
    "dev_loader = DataLoader(dev_dataset, batch_size=batch_size, collate_fn=collator)\n",
    "device = torch.device('cuda:{}'.format(0) if torch.cuda.is_available() else 'cpu')\n",
    "model = TemporalClassificationModel(\n",
    "        #n_times=train_dataset.n_times,\n",
    "        n_times=max(train_dataset.times + dev_dataset.times) + 1,\n",
    "        # we have to use the test_dataset here because we do a temporal split and the oldest dates are in the test split\n",
    "        nr_classes=nr_classes,\n",
    "        lm_model=lm_model\n",
    "    )"
   ]
  },
  {
   "cell_type": "code",
   "execution_count": 6,
   "id": "3841577f",
   "metadata": {},
   "outputs": [],
   "source": [
    "optimizer = optim.Adam(model.parameters(), lr=lr)\n",
    "criterion = nn.CrossEntropyLoss()\n",
    "model = model.to(device)\n",
    "vocab_filter = train_dataset.filter_tensor.to(device)"
   ]
  },
  {
   "cell_type": "code",
   "execution_count": 7,
   "id": "a762efc2",
   "metadata": {},
   "outputs": [],
   "source": [
    "def compute_loss(data_loader, model, vocab_filter, criterion, lambda_a, lambda_w):\n",
    "    full_loss = 0\n",
    "    y_true = list()\n",
    "    y_pred = list()\n",
    "    for batch in data_loader:\n",
    "        labels, times, years, months, days, reviews, masks, segs = batch\n",
    "\n",
    "        labels = labels.to(device)\n",
    "        reviews = reviews.to(device)\n",
    "        masks = masks.to(device)\n",
    "        segs = segs.to(device)\n",
    "\n",
    "        offset_t0, offset_t1, output = model(reviews, masks, segs, times, vocab_filter)\n",
    "\n",
    "        loss = criterion(output, labels.long().view(-1))\n",
    "        # print('Loss before offsetting: {:.5f}'.format(loss))\n",
    "        loss += lambda_a * torch.norm(offset_t1, dim=-1).pow(2).mean()\n",
    "        # print('Loss after offsetting: {:.5f}'.format(loss))\n",
    "        loss += lambda_w * torch.norm(offset_t1 - offset_t0, dim=-1).pow(2).mean()\n",
    "        full_loss += loss\n",
    "        y_true.extend(labels.tolist())\n",
    "        y_pred.extend(torch.argmax(output, axis=-1).tolist())\n",
    "    f1_bin = f1_score(y_true, y_pred)\n",
    "    return full_loss, f1_bin"
   ]
  },
  {
   "cell_type": "code",
   "execution_count": 8,
   "id": "4e03edc9",
   "metadata": {
    "collapsed": true
   },
   "outputs": [
    {
     "name": "stdout",
     "output_type": "stream",
     "text": [
      "Processed 0 examples...\n",
      "Processed 320 examples...\n",
      "Processed 640 examples...\n",
      "Processed 960 examples...\n",
      "Processed 1280 examples...\n",
      "Processed 1600 examples...\n",
      "Processed 1920 examples...\n",
      "Processed 2240 examples...\n",
      "Processed 2560 examples...\n",
      "Processed 2880 examples...\n",
      "Processed 3200 examples...\n",
      "Processed 3520 examples...\n",
      "Processed 3840 examples...\n",
      "Processed 4160 examples...\n",
      "Processed 4480 examples...\n",
      "Processed 4800 examples...\n",
      "Processed 5120 examples...\n",
      "Processed 5440 examples...\n",
      "Processed 5760 examples...\n",
      "Processed 6080 examples...\n",
      "Processed 6400 examples...\n",
      "Processed 6720 examples...\n",
      "Processed 7040 examples...\n",
      "Processed 7360 examples...\n",
      "Processed 7680 examples...\n",
      "Processed 8000 examples...\n",
      "Processed 8320 examples...\n",
      "Processed 8640 examples...\n",
      "Processed 8960 examples...\n",
      "Processed 9280 examples...\n",
      "Processed 9600 examples...\n",
      "Processed 9920 examples...\n",
      "Processed 10240 examples...\n"
     ]
    }
   ],
   "source": [
    "# model training\n",
    "train_losses = []\n",
    "val_losses = []\n",
    "train_f1s = []\n",
    "val_f1s = []\n",
    "steps = []\n",
    "for epoch in range(1, n_epochs + 1):\n",
    "\n",
    "    model.train()\n",
    "\n",
    "    #filename = 'dcwe_{}_{}_losses_epoch_{}'.format(args.data_name, args.partition, str(epoch))\n",
    "    nr_batches = len(train_loader)\n",
    "    for i, train_batch in enumerate(train_loader):\n",
    "        if i % 10 == 0:\n",
    "            print('Processed {} examples...'.format(i * batch_size))\n",
    "\n",
    "        labels, times, years, months, days, reviews, masks, segs = train_batch\n",
    "\n",
    "        labels = labels.to(device)\n",
    "        reviews = reviews.to(device)\n",
    "        masks = masks.to(device)\n",
    "        segs = segs.to(device)\n",
    "\n",
    "        optimizer.zero_grad()\n",
    "\n",
    "        offset_t0, offset_t1, output = model(reviews, masks, segs, times, vocab_filter)\n",
    "\n",
    "        loss = criterion(output, labels.long().view(-1))\n",
    "        # print('Loss before offsetting: {:.5f}'.format(loss))\n",
    "        loss += lambda_a * torch.norm(offset_t1, dim=-1).pow(2).mean()\n",
    "        # print('Loss after offsetting: {:.5f}'.format(loss))\n",
    "        loss += lambda_w * torch.norm(offset_t1 - offset_t0, dim=-1).pow(2).mean()\n",
    "        # print('Loss after offsetting diff: {:.5f}'.format(loss))\n",
    "        loss.backward()\n",
    "\n",
    "        optimizer.step()\n",
    "        \n",
    "        if i % 10 == 0:\n",
    "            model.eval()\n",
    "            steps.append(i + nr_batches*(epoch-1))\n",
    "            with torch.no_grad():\n",
    "                train_loss, train_f1 = compute_loss(train_loader, model, vocab_filter, criterion, lambda_a, lambda_w)\n",
    "                train_losses.append(train_loss)\n",
    "                train_f1s.append(train_f1)\n",
    "                val_loss, val_f1 = compute_loss(dev_loader, model, vocab_filter, criterion, lambda_a, lambda_w)\n",
    "                val_losses.append(val_loss)\n",
    "                val_f1s.append(val_f1)\n"
   ]
  },
  {
   "cell_type": "code",
   "execution_count": 9,
   "id": "f180c6ba",
   "metadata": {},
   "outputs": [],
   "source": [
    "train_values = [i.item() for i in train_losses]\n",
    "val_values = [i.item() for i in val_losses]\n"
   ]
  },
  {
   "cell_type": "code",
   "execution_count": 10,
   "id": "191d8d84",
   "metadata": {},
   "outputs": [],
   "source": [
    "def visualize_train_val(train_values, loss_values):\n",
    "    plt.figure(figsize=(10,5))\n",
    "    plt.title(\"Training and Validation Loss\")\n",
    "    plt.plot(loss_values,label=\"val\")\n",
    "    plt.plot(train_values,label=\"train\")\n",
    "    plt.xlabel(\"iterations\")\n",
    "    plt.ylabel(\"Loss\")\n",
    "    plt.legend()\n",
    "    plt.show()"
   ]
  },
  {
   "cell_type": "code",
   "execution_count": 11,
   "id": "405aebed",
   "metadata": {},
   "outputs": [
    {
     "data": {
      "image/png": "[encoded data removed]",
      "text/plain": [
       "<Figure size 720x360 with 1 Axes>"
      ]
     },
     "metadata": {
      "needs_background": "light"
     },
     "output_type": "display_data"
    }
   ],
   "source": [
    "visualize_train_val(train_f1s, val_values)"
   ]
  },
  {
   "cell_type": "code",
   "execution_count": 13,
   "id": "fe8f4b6c",
   "metadata": {},
   "outputs": [
    {
     "data": {
      "image/png": "[encoded data removed]",
      "text/plain": [
       "<Figure size 720x360 with 1 Axes>"
      ]
     },
     "metadata": {
      "needs_background": "light"
     },
     "output_type": "display_data"
    }
   ],
   "source": [
    "visualize_train_val(train_f1s, val_f1s)"
   ]
  }
 ],
 "metadata": {
  "kernelspec": {
   "display_name": "venv",
   "language": "python",
   "name": "venv"
  },
  "language_info": {
   "codemirror_mode": {
    "name": "ipython",
    "version": 3
   },
   "file_extension": ".py",
   "mimetype": "text/x-python",
   "name": "python",
   "nbconvert_exporter": "python",
   "pygments_lexer": "ipython3",
   "version": "3.6.8"
  }
 },
 "nbformat": 4,
 "nbformat_minor": 5
}
